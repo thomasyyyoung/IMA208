{
 "cells": [
  {
   "cell_type": "code",
   "execution_count": 2,
   "metadata": {},
   "outputs": [],
   "source": [
    "from numpy import *\n",
    "import matplotlib.pyplot as plt\n",
    "import matplotlib.animation as animation\n",
    "import time\n",
    "import sys\n",
    "\n",
    "\n",
    "# A function that calculate the cosine similarity by block,\n",
    "# and return the result as a matrix\n",
    "def cosine_similarity_by_block(matrix, block_size):\n",
    "    # Get the number of rows and columns of the matrix\n",
    "    rows, cols = matrix.shape\n",
    "\n",
    "    # Calculate the number of blocks in the matrix\n",
    "    num_blocks = int(rows / block_size)\n",
    "\n",
    "    # Create a matrix to store the result\n",
    "    result = zeros((num_blocks, num_blocks))\n",
    "\n",
    "    # Calculate the cosine similarity by block\n",
    "    for i in range(num_blocks):\n",
    "        for j in range(num_blocks):\n",
    "            # Get the start and end indices of the rows for the block\n",
    "            start_row = i * block_size\n",
    "            end_row = (i + 1) * block_size\n",
    "\n",
    "            # Get the start and end indices of the columns for the block\n",
    "            start_col = j * block_size\n",
    "            end_col = (j + 1) * block_size\n",
    "\n",
    "            # Get the block of the matrix\n",
    "            block = matrix[start_row:end_row, start_col:end_col]\n",
    "\n",
    "            # Calculate the cosine similarity of the block\n",
    "            result[i, j] = cosine_similarity(block)\n",
    "\n",
    "    return result"
   ]
  },
  {
   "cell_type": "code",
   "execution_count": 3,
   "metadata": {},
   "outputs": [
    {
     "name": "stdout",
     "output_type": "stream",
     "text": [
      "[254 348 153 456 473 480 167 387 161 463 145 301 325 242 486 344  67  25\n",
      " 146 410]\n",
      "[486 480 473 463 456 410 387 348 344 325 301 254 242 167 161 153 146 145\n",
      "  67  25]\n"
     ]
    }
   ],
   "source": [
    "## quick sort\n",
    "def quick_sort(arr, low, high):\n",
    "    if low < high:\n",
    "        pi = partition(arr, low, high)\n",
    "        quick_sort(arr, low, pi - 1)\n",
    "        quick_sort(arr, pi + 1, high)\n",
    "\n",
    "def partition(arr, low, high):\n",
    "    i = low - 1\n",
    "    pivot = arr[high]\n",
    "    for j in range(low, high):\n",
    "        if arr[j] > pivot:\n",
    "            i = i + 1\n",
    "            arr[i], arr[j] = arr[j], arr[i]\n",
    "    arr[i + 1], arr[high] = arr[high], arr[i + 1]\n",
    "    return i + 1\n",
    "\n",
    "# example list of numbers\n",
    "arr = random.randint(0, 500, 20)\n",
    "print(arr)\n",
    "n = len(arr)\n",
    "\n",
    "quick_sort(arr, 0, n - 1)\n",
    "print(arr)"
   ]
  },
  {
   "cell_type": "code",
   "execution_count": null,
   "metadata": {},
   "outputs": [],
   "source": []
  }
 ],
 "metadata": {
  "kernelspec": {
   "display_name": "base",
   "language": "python",
   "name": "python3"
  },
  "language_info": {
   "codemirror_mode": {
    "name": "ipython",
    "version": 3
   },
   "file_extension": ".py",
   "mimetype": "text/x-python",
   "name": "python",
   "nbconvert_exporter": "python",
   "pygments_lexer": "ipython3",
   "version": "3.8.5"
  }
 },
 "nbformat": 4,
 "nbformat_minor": 2
}
